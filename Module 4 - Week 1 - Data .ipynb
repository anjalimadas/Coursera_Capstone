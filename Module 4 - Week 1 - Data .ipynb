{
    "cells": [
        {
            "cell_type": "markdown",
            "metadata": {
                "collapsed": true
            },
            "source": "## Description of the data:\n\nThe main data used for this project will be from two sources:\n    - The average price by neighborhoods in New York city. (CityRealty)\n    - The venues in each neighborhood. (FourSquare API)\nOther supporting data:\n    - Coordinates (Geocoder Python)\n    - GeoJson (http://data.beta.nyc)"
        },
        {
            "cell_type": "markdown",
            "metadata": {},
            "source": "### Data collection process:\n\n- The average price will be scrapped from the CityRealty website.\n- For each neighborhood, call Geocoder Python to get its coordinate.\n- For each neighborhood's coordinate, call FourSquare API to get the surrounding venues.\n- Count the occurrences of each venue type and attach that information to each neighborhood.\n\nThe output of the data collecting process will be a 2 dimensions dataframe:\n\n- Each row represents a neighborhood.\n- Each column will be the count of one type of venue in that neighborhood.\n- The last column will be the average 2-bedroom condo price of that neighborhood.\n"
        },
        {
            "cell_type": "markdown",
            "metadata": {},
            "source": "### Using data to solve the question:\n- First, correlation between price and surrounding venues will be checked.\n- Second, if correlated, machine learning techniques (PCA, Regression, PCR) will be used to analyze the data. The output will be a list of venues types that effect the most on price, along with their weight on the result."
        }
    ],
    "metadata": {
        "kernelspec": {
            "display_name": "Python 3.6",
            "language": "python",
            "name": "python3"
        },
        "language_info": {
            "codemirror_mode": {
                "name": "ipython",
                "version": 3
            },
            "file_extension": ".py",
            "mimetype": "text/x-python",
            "name": "python",
            "nbconvert_exporter": "python",
            "pygments_lexer": "ipython3",
            "version": "3.6.8"
        }
    },
    "nbformat": 4,
    "nbformat_minor": 1
}